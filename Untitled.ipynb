{
 "cells": [
  {
   "cell_type": "code",
   "execution_count": 3,
   "id": "dcc3fd8c-c557-41fa-a7ca-4d6ca932e4bf",
   "metadata": {},
   "outputs": [
    {
     "data": {
      "text/plain": [
       "['models/encoders.pkl']"
      ]
     },
     "execution_count": 3,
     "metadata": {},
     "output_type": "execute_result"
    }
   ],
   "source": [
    "# train_model.py\n",
    "import pandas as pd\n",
    "import joblib\n",
    "from sklearn.ensemble import RandomForestRegressor\n",
    "from sklearn.preprocessing import LabelEncoder, StandardScaler\n",
    "\n",
    "# Load data\n",
    "df = pd.read_csv(\"data/car_data.csv\")\n",
    "\n",
    "# Feature engineering\n",
    "df['Car_Age'] = 2025 - df['Year of manufacture']\n",
    "features = ['Manufacturer', 'Model', 'Fuel type', 'Engine size', 'Mileage', 'Car_Age']\n",
    "target = 'Price'\n",
    "\n",
    "# Encode categorical\n",
    "encoders = {}\n",
    "for col in ['Manufacturer', 'Model', 'Fuel type']:\n",
    "    le = LabelEncoder()\n",
    "    df[col] = le.fit_transform(df[col])\n",
    "    encoders[col] = le\n",
    "\n",
    "# Scale numerical\n",
    "scaler = StandardScaler()\n",
    "df[['Engine size', 'Mileage', 'Car_Age']] = scaler.fit_transform(df[['Engine size', 'Mileage', 'Car_Age']])\n",
    "\n",
    "# Train model\n",
    "X = df[features]\n",
    "y = df[target]\n",
    "model = RandomForestRegressor()\n",
    "model.fit(X, y)\n",
    "\n",
    "# Save\n",
    "joblib.dump(model, 'models/price_model.pkl')\n",
    "joblib.dump(scaler, 'models/scaler.pkl')\n",
    "joblib.dump(encoders, 'models/encoders.pkl')"
   ]
  },
  {
   "cell_type": "code",
   "execution_count": null,
   "id": "005af293-2106-4812-ab8c-e0ce978c4c65",
   "metadata": {},
   "outputs": [],
   "source": []
  }
 ],
 "metadata": {
  "kernelspec": {
   "display_name": "Python 3 (ipykernel)",
   "language": "python",
   "name": "python3"
  },
  "language_info": {
   "codemirror_mode": {
    "name": "ipython",
    "version": 3
   },
   "file_extension": ".py",
   "mimetype": "text/x-python",
   "name": "python",
   "nbconvert_exporter": "python",
   "pygments_lexer": "ipython3",
   "version": "3.10.10"
  }
 },
 "nbformat": 4,
 "nbformat_minor": 5
}
